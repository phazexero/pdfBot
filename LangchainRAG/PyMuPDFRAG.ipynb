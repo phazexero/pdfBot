{
 "cells": [
  {
   "cell_type": "code",
   "execution_count": 24,
   "metadata": {},
   "outputs": [],
   "source": [
    "from langchain import hub\n",
    "from langchain.vectorstores import Chroma\n",
    "from langchain.text_splitter import RecursiveCharacterTextSplitter\n",
    "from langchain_community.document_loaders import PyMuPDFLoader\n",
    "from langchain.embeddings.sentence_transformer import SentenceTransformerEmbeddings\n",
    "from langchain_core.output_parsers import StrOutputParser\n",
    "from langchain_core.runnables import RunnablePassthrough\n",
    "from langchain_community.llms import Together\n",
    "from langchain_core.prompts import PromptTemplate\n",
    "import os\n",
    "from dotenv import load_dotenv"
   ]
  },
  {
   "cell_type": "code",
   "execution_count": 25,
   "metadata": {},
   "outputs": [],
   "source": [
    "loader = PyMuPDFLoader(\"../DocumentStore/The_Art_Of_War.pdf\")\n",
    "pages = loader.load()"
   ]
  },
  {
   "cell_type": "code",
   "execution_count": 26,
   "metadata": {},
   "outputs": [],
   "source": [
    "text_splitter = RecursiveCharacterTextSplitter(chunk_size=1000, \n",
    "                                               chunk_overlap = 200, \n",
    "                                                length_function=len,\n",
    "                                                is_separator_regex=False,\n",
    "                                                separators=[\n",
    "                                                            \"\\n\\n\",\n",
    "                                                            \"\\n\",\n",
    "                                                            \".\",\n",
    "                                                            \",\",\n",
    "                                                            \"\\u200B\",  # Zero-width space\n",
    "                                                            \"\\uff0c\",  # Fullwidth comma\n",
    "                                                            \"\\u3001\",  # Ideographic comma\n",
    "                                                            \"\\uff0e\",  # Fullwidth full stop\n",
    "                                                            \"\\u3002\",  # Ideographic full stop\n",
    "                                                            \" \",\n",
    "                                                            \"\",\n",
    "                                                        ]\n",
    "                                            )\n",
    "splits = text_splitter.split_documents(pages)"
   ]
  },
  {
   "cell_type": "code",
   "execution_count": 1,
   "metadata": {},
   "outputs": [],
   "source": [
    "# splits[1]"
   ]
  },
  {
   "cell_type": "code",
   "execution_count": 28,
   "metadata": {},
   "outputs": [],
   "source": [
    "embedding_function = SentenceTransformerEmbeddings(model_name=\"BAAI/bge-base-en-v1.5\")"
   ]
  },
  {
   "cell_type": "code",
   "execution_count": 29,
   "metadata": {},
   "outputs": [],
   "source": [
    "vectorstore = Chroma.from_documents(documents=splits, embedding=embedding_function, persist_directory=\"../chroma_db\")"
   ]
  },
  {
   "cell_type": "code",
   "execution_count": 30,
   "metadata": {},
   "outputs": [],
   "source": [
    "query = \"Sun Tzu\"\n",
    "k = 10\n",
    "results = vectorstore.similarity_search_with_relevance_scores(query, k=k)"
   ]
  },
  {
   "cell_type": "code",
   "execution_count": 31,
   "metadata": {},
   "outputs": [],
   "source": [
    "k = 5\n",
    "retriever = vectorstore.as_retriever(search_kwargs={\"k\":k})\n",
    "query = \"How update MSME UDYAM details?\"\n",
    "results = retriever.invoke(query)\n",
    "\n",
    "def format_docs(docs):\n",
    "    return \"\\n\\n\".join(doc.page_content for doc in docs)"
   ]
  },
  {
   "cell_type": "code",
   "execution_count": 32,
   "metadata": {},
   "outputs": [],
   "source": [
    "load_dotenv()\n",
    "\n",
    "prompt = PromptTemplate(input_variables=['context', 'question'],\n",
    "                        template=\"You are an assistant for question-answering tasks. Use the following pieces of retrieved context to answer the question. If you don't know the answer, just say that you don't know. Keep answers descriptive and mention the process.\\nQuestion: {question} \\nContext: {context} \\nAnswer:\")\n",
    "\n",
    "response = Together(\n",
    "        model=\"mistralai/Mistral-7B-Instruct-v0.1\",\n",
    "        together_api_key= os.environ[\"TOGETHER_API_KEY\"],\n",
    "        temperature=0.3,\n",
    "        max_tokens=512\n",
    "    )\n",
    "\n",
    "rag_chain = (\n",
    "    {\"context\": retriever \n",
    "    | format_docs, \"question\": RunnablePassthrough()}\n",
    "    | prompt\n",
    "    | response\n",
    "    | StrOutputParser())"
   ]
  },
  {
   "cell_type": "code",
   "execution_count": 33,
   "metadata": {},
   "outputs": [
    {
     "name": "stdout",
     "output_type": "stream",
     "text": [
      " The functionality of Reconcilation statement:missing in books is not specified in the provided context.\n"
     ]
    }
   ],
   "source": [
    "query = \"What is the functionality of Reconcilation statement:missing in books?\"\n",
    "\n",
    "query_list = [\"Describe the ledger statement data-table?\", ]\n",
    "# query = \"Summarise the document for me in 500 words\"\n",
    "ls = rag_chain.invoke(query)\n",
    "print(ls)"
   ]
  }
 ],
 "metadata": {
  "kernelspec": {
   "display_name": ".venv",
   "language": "python",
   "name": "python3"
  },
  "language_info": {
   "codemirror_mode": {
    "name": "ipython",
    "version": 3
   },
   "file_extension": ".py",
   "mimetype": "text/x-python",
   "name": "python",
   "nbconvert_exporter": "python",
   "pygments_lexer": "ipython3",
   "version": "3.10.11"
  }
 },
 "nbformat": 4,
 "nbformat_minor": 2
}
