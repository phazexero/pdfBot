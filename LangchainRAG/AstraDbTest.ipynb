{
 "cells": [
  {
   "cell_type": "code",
   "execution_count": 1,
   "metadata": {},
   "outputs": [],
   "source": [
    "from langchain.vectorstores import Chroma\n",
    "from langchain.text_splitter import RecursiveCharacterTextSplitter\n",
    "from langchain_community.document_loaders import PyMuPDFLoader\n",
    "from langchain.embeddings.sentence_transformer import SentenceTransformerEmbeddings\n",
    "from langchain_core.output_parsers import StrOutputParser\n",
    "from langchain_core.runnables import RunnablePassthrough\n",
    "from langchain_community.llms import Together\n",
    "from langchain_core.prompts import PromptTemplate\n",
    "import os\n",
    "from dotenv import load_dotenv\n",
    "from langchain_community.vectorstores import Milvus\n",
    "from langchain_astradb import AstraDBVectorStore"
   ]
  },
  {
   "cell_type": "code",
   "execution_count": 2,
   "metadata": {},
   "outputs": [],
   "source": [
    "loader = PyMuPDFLoader(\"../DocumentStore/The_Art_Of_War.pdf\")\n",
    "pages = loader.load()"
   ]
  },
  {
   "cell_type": "code",
   "execution_count": 3,
   "metadata": {},
   "outputs": [],
   "source": [
    "text_splitter = RecursiveCharacterTextSplitter(chunk_size=1000, \n",
    "                                               chunk_overlap = 200, \n",
    "                                                length_function=len,\n",
    "                                                is_separator_regex=False,\n",
    "                                                separators=[\n",
    "                                                            \"\\n\\n\",\n",
    "                                                            \"\\n\",\n",
    "                                                            \".\",\n",
    "                                                            \",\",\n",
    "                                                            \"\\u200B\",  # Zero-width space\n",
    "                                                            \"\\uff0c\",  # Fullwidth comma\n",
    "                                                            \"\\u3001\",  # Ideographic comma\n",
    "                                                            \"\\uff0e\",  # Fullwidth full stop\n",
    "                                                            \"\\u3002\",  # Ideographic full stop\n",
    "                                                            \" \",\n",
    "                                                            \"\",\n",
    "                                                        ]\n",
    "                                            )\n",
    "splits = text_splitter.split_documents(pages)"
   ]
  },
  {
   "cell_type": "code",
   "execution_count": 4,
   "metadata": {},
   "outputs": [],
   "source": [
    "# splits[1]"
   ]
  },
  {
   "cell_type": "code",
   "execution_count": 4,
   "metadata": {},
   "outputs": [
    {
     "name": "stderr",
     "output_type": "stream",
     "text": [
      "c:\\Users\\debgh\\AllProjects\\RAGProjects\\pdfBot\\.venv\\lib\\site-packages\\tqdm\\auto.py:21: TqdmWarning: IProgress not found. Please update jupyter and ipywidgets. See https://ipywidgets.readthedocs.io/en/stable/user_install.html\n",
      "  from .autonotebook import tqdm as notebook_tqdm\n"
     ]
    }
   ],
   "source": [
    "embedding_function = SentenceTransformerEmbeddings(model_name=\"BAAI/bge-base-en-v1.5\")"
   ]
  },
  {
   "cell_type": "code",
   "execution_count": 16,
   "metadata": {},
   "outputs": [],
   "source": [
    "# ASTRA_DB_API_ENDPOINT = \"Use your own API Endpoint\"\n",
    "# ASTRA_DB_APPLICATION_TOKEN = \"Use your own application token\"\n",
    "ASTRA_DB_API_ENDPOINT = os.environ[\"ASTRA_DB_API_ENDPOINT\"]\n",
    "ASTRA_DB_APPLICATION_TOKEN = os.environ[\"ASTRA_DB_API_ENDPOINT\"]\n",
    "\n",
    "desired_namespace = input(\"(optional) Namespace = \")\n",
    "if desired_namespace:\n",
    "    ASTRA_DB_KEYSPACE = desired_namespace\n",
    "else:\n",
    "    ASTRA_DB_KEYSPACE = None\n",
    "\n",
    "vectorstore = AstraDBVectorStore(\n",
    "    embedding=embedding_function,\n",
    "    collection_name=\"astra_vector_demo\",\n",
    "    api_endpoint=ASTRA_DB_API_ENDPOINT,\n",
    "    token=ASTRA_DB_APPLICATION_TOKEN,\n",
    "    namespace=ASTRA_DB_KEYSPACE,\n",
    ")"
   ]
  },
  {
   "cell_type": "code",
   "execution_count": 17,
   "metadata": {},
   "outputs": [],
   "source": [
    "# vectorstore = Chroma.from_documents(documents=splits, embedding=embedding_function, persist_directory=\"../chroma_d\")"
   ]
  },
  {
   "cell_type": "code",
   "execution_count": 26,
   "metadata": {},
   "outputs": [],
   "source": [
    "query = \"Sun Tzu\"\n",
    "k = 10\n",
    "results = vectorstore.similarity_search(query, k=k)"
   ]
  },
  {
   "cell_type": "code",
   "execution_count": 27,
   "metadata": {},
   "outputs": [],
   "source": [
    "k = 5\n",
    "retriever = vectorstore.as_retriever(search_kwargs={\"k\":k})\n",
    "query = \"Who was Sun Tzu?\"\n",
    "results = retriever.invoke(query)\n",
    "\n",
    "def format_docs(docs):\n",
    "    return \"\\n\\n\".join(doc.page_content for doc in docs)"
   ]
  },
  {
   "cell_type": "code",
   "execution_count": 28,
   "metadata": {},
   "outputs": [],
   "source": [
    "load_dotenv()\n",
    "\n",
    "prompt = PromptTemplate(input_variables=['context', 'question'],\n",
    "                        template=\"You are an assistant for question-answering tasks. Use the following pieces of retrieved context to answer the question. If you don't know the answer, just say that you don't know. Keep answers descriptive and mention the process.\\nQuestion: {question} \\nContext: {context} \\nAnswer:\")\n",
    "\n",
    "response = Together(\n",
    "        model=\"mistralai/Mistral-7B-Instruct-v0.1\",\n",
    "        together_api_key= os.environ[\"TOGETHER_API_KEY\"],\n",
    "        temperature=0.3,\n",
    "        max_tokens=512\n",
    "    )\n",
    "\n",
    "rag_chain = (\n",
    "    {\"context\": retriever \n",
    "    | format_docs, \"question\": RunnablePassthrough()}\n",
    "    | prompt\n",
    "    | response\n",
    "    | StrOutputParser())"
   ]
  },
  {
   "cell_type": "code",
   "execution_count": 29,
   "metadata": {},
   "outputs": [
    {
     "name": "stdout",
     "output_type": "stream",
     "text": [
      " The art of war is governed by strategy. It is a concept that has been studied and practiced for centuries, with many different philosophers and military leaders contributing to its development. The art of war is not a specific set of rules or laws, but rather a set of principles and guidelines that can be applied in a variety of situations. These principles include understanding the strengths and weaknesses of oneself and one's opponent, being able to adapt to changing circumstances, and making decisions based on a clear understanding of the situation at hand. The art of war is a complex and constantly evolving field, and it is up to the individual to study and understand its principles in order to be effective in battle.\n"
     ]
    }
   ],
   "source": [
    "query = \"What is the art of war goverened by?\"\n",
    "\n",
    "query_list = [\"Describe the ledger statement data-table?\", ]\n",
    "# query = \"Summarise the document for me in 500 words\"\n",
    "ls = rag_chain.invoke(query)\n",
    "print(ls)"
   ]
  }
 ],
 "metadata": {
  "kernelspec": {
   "display_name": ".venv",
   "language": "python",
   "name": "python3"
  },
  "language_info": {
   "codemirror_mode": {
    "name": "ipython",
    "version": 3
   },
   "file_extension": ".py",
   "mimetype": "text/x-python",
   "name": "python",
   "nbconvert_exporter": "python",
   "pygments_lexer": "ipython3",
   "version": "3.10.11"
  }
 },
 "nbformat": 4,
 "nbformat_minor": 2
}
